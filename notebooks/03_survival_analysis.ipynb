{
 "cells": [
  {
   "cell_type": "markdown",
   "id": "relative-range",
   "metadata": {},
   "source": [
    "Before we begin, we will change a few settings to make the notebook look a bit prettier"
   ]
  },
  {
   "cell_type": "code",
   "execution_count": null,
   "id": "similar-suite",
   "metadata": {},
   "outputs": [],
   "source": [
    "%%html\n",
    "<style> body {font-family: \"Calibri\", cursive, sans-serif;} </style>"
   ]
  },
  {
   "cell_type": "markdown",
   "id": "environmental-pharmaceutical",
   "metadata": {},
   "source": [
    "<img src=\"https://github.com/IKNL/guidelines/blob/master/resources/logos/iknl_nl.png?raw=true\" width=200 align=\"right\">\n",
    "\n",
    "# 03 - Survival Analysis\n",
    "\n",
    "Perform some basic survival analysis on the synthetic data\n",
    "\n",
    "## Imports"
   ]
  },
  {
   "cell_type": "code",
   "execution_count": null,
   "id": "identical-chorus",
   "metadata": {},
   "outputs": [],
   "source": []
  },
  {
   "cell_type": "markdown",
   "id": "multiple-singing",
   "metadata": {
    "lines_to_next_cell": 2
   },
   "source": [
    "## 3.1 Read the data\n",
    "Read the data file that you generated in the notebook `01_preprocessing`"
   ]
  },
  {
   "cell_type": "code",
   "execution_count": null,
   "id": "initial-contamination",
   "metadata": {},
   "outputs": [],
   "source": []
  },
  {
   "cell_type": "markdown",
   "id": "shared-seattle",
   "metadata": {},
   "source": [
    "## 3.2 Kaplan-Meier analysis\n",
    "Perform a variety of KM analyses on the dataset. \n",
    "Some pointers:\n",
    "\n",
    "* Calculate the duration (T) - the time to event (in our case, the event is either death or last time we contacted the patient)\n",
    "* Calculate the censorship (C)\n",
    "* Apply the KM fitter to the _whole_ dataset and generate KM curves\n",
    "* Now, generate KM curves to compare the survival depending on:\n",
    "    - Gender (male vs female) <br>\n",
    "      In this case, perform a log rank test: is the survival of males and females different?\n",
    "    - Clinical stage (numeric value)\n",
    "    - Pathological stage (numeric value)\n",
    "\n",
    "Make sure you save all your plots in the `results` directory\n",
    "\n",
    "**Tip**: take a look at [`lifelines`](https://lifelines.readthedocs.io/en/latest/)"
   ]
  },
  {
   "cell_type": "code",
   "execution_count": null,
   "id": "divine-plastic",
   "metadata": {
    "lines_to_next_cell": 2
   },
   "outputs": [],
   "source": []
  },
  {
   "cell_type": "markdown",
   "id": "dominant-console",
   "metadata": {},
   "source": [
    "## 3.2 Cox Proportional Hazards analysis\n",
    "Perform a CPH analysis on the dataset. \n",
    "\n",
    "* Make sure you process the variables accordingly (encoding, normalization, etc. where needed)\n",
    "* Generate a graphical representation of the coefficients\n",
    "\n",
    "Make sure you save all your plots in the `results` directory\n",
    "\n",
    "**Tip**: take a look at [`lifelines`](https://lifelines.readthedocs.io/en/latest/) (again)"
   ]
  },
  {
   "cell_type": "code",
   "execution_count": null,
   "id": "inside-enlargement",
   "metadata": {
    "lines_to_next_cell": 2
   },
   "outputs": [],
   "source": []
  },
  {
   "cell_type": "markdown",
   "id": "reverse-apache",
   "metadata": {},
   "source": [
    "* What do the coefficients of the regression tell us?\n",
    "* Which variable has the largest impact on survival?\n",
    "* What limitations does the CPH model have?"
   ]
  },
  {
   "cell_type": "markdown",
   "id": "painted-plaintiff",
   "metadata": {},
   "source": [
    "..."
   ]
  }
 ],
 "metadata": {
  "jupytext": {
   "cell_metadata_json": true,
   "formats": "ipynb,py:percent"
  },
  "kernelspec": {
   "display_name": "Python 3",
   "language": "python",
   "name": "python3"
  },
  "language_info": {
   "codemirror_mode": {
    "name": "ipython",
    "version": 3
   },
   "file_extension": ".py",
   "mimetype": "text/x-python",
   "name": "python",
   "nbconvert_exporter": "python",
   "pygments_lexer": "ipython3",
   "version": "3.7.9"
  }
 },
 "nbformat": 4,
 "nbformat_minor": 5
}
