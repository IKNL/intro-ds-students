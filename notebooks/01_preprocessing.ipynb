{
 "cells": [
  {
   "cell_type": "markdown",
   "id": "indoor-garage",
   "metadata": {},
   "source": [
    "Before we begin, we will change a few settings to make the notebook look a bit prettier"
   ]
  },
  {
   "cell_type": "code",
   "execution_count": null,
   "id": "personalized-marketplace",
   "metadata": {},
   "outputs": [],
   "source": [
    "%%html\n",
    "<style> body {font-family: \"Calibri\", cursive, sans-serif;} </style>"
   ]
  },
  {
   "cell_type": "markdown",
   "id": "related-pursuit",
   "metadata": {},
   "source": [
    "<img src=\"https://github.com/IKNL/guidelines/blob/master/resources/logos/iknl_nl.png?raw=true\" width=200 align=\"right\">\n",
    "\n",
    "# 01 - Pre-processing\n",
    "\n",
    "Perform some pre-processing on the (synthetic) data\n",
    "\n",
    "**Important**: include all your imports here and here only."
   ]
  },
  {
   "cell_type": "code",
   "execution_count": null,
   "id": "statutory-glucose",
   "metadata": {},
   "outputs": [],
   "source": []
  },
  {
   "cell_type": "markdown",
   "id": "restricted-egyptian",
   "metadata": {},
   "source": [
    "## 1.1 Read the data\n",
    "**Tip**: take a look at [`pandas read_csv`](https://pandas.pydata.org/pandas-docs/stable/reference/api/pandas.read_csv.html)"
   ]
  },
  {
   "cell_type": "code",
   "execution_count": null,
   "id": "steady-guidance",
   "metadata": {},
   "outputs": [],
   "source": []
  },
  {
   "cell_type": "markdown",
   "id": "homeless-armstrong",
   "metadata": {},
   "source": [
    "## 1.2 Rename the columns\n",
    "Rename the columns of the original `DataFrame` as follows:\n",
    "\n",
    "| Original name | New name |\n",
    "|---------------|----------|\n",
    "| `rn`          | `nkr_id`   |\n",
    "| `zid`      | `disease_id`   |\n",
    "| `eid`      | `episode_id`   |\n",
    "| `gesl`      | `gender`   |\n",
    "| `gebdat`      | `birth_date`   |\n",
    "| `incdat`      | `incidence_date`   |\n",
    "| `topo`      | `topo`   |\n",
    "| `sublok`      | `sublocalization`   |\n",
    "| `topog`      | `topography`   |\n",
    "| `later`      | `lateralization`   |\n",
    "| `morf`      | `morphology`   |\n",
    "| `gedrag`      | `behaviour`   |\n",
    "| `diffgr`      | `grade`   |\n",
    "| `tumorsoort`      | `tumor_type`   |\n",
    "| `basisd`      | `diagnosis_basis`   |\n",
    "| `ct`      | `t_clin`   |\n",
    "| `cn`      | `n_clin`   |\n",
    "| `cm`      | `m_clin`   |\n",
    "| `pt`      | `t_patho`   |\n",
    "| `pn`      | `n_patho`   |\n",
    "| `pm`      | `m_patho`   |\n",
    "| `stadiumc`      | `stage_clin`   |\n",
    "| `stadium`      | `stage_patho`   |\n",
    "| `vitdat`      | `contact_date`   |\n",
    "| `ovldat`      | `death_date`   |\n",
    "\n",
    "This will make your code much easier to read (and more accessible to \n",
    "non-Dutch speakers as well 😉).\n",
    "\n",
    "**Tip**: take a look at [`pandas rename`](https://pandas.pydata.org/pandas-docs/stable/reference/api/pandas.DataFrame.rename.html)\n",
    "\n",
    "As you get familiarized with the data, be sure to complete the table found in `../data/README.md`."
   ]
  },
  {
   "cell_type": "code",
   "execution_count": null,
   "id": "hearing-belief",
   "metadata": {},
   "outputs": [],
   "source": []
  },
  {
   "cell_type": "markdown",
   "id": "bronze-coach",
   "metadata": {},
   "source": [
    "## 1.3 Check data integrity\n",
    "Data are never perfect. Let's see how imperfect this dataset is.\n",
    "\n",
    "First, generate a visualization of the missing values.\n",
    "\n",
    "**Tip**: take a look at the [`missingno` package](https://github.com/ResidentMario/missingno)"
   ]
  },
  {
   "cell_type": "code",
   "execution_count": null,
   "id": "varying-neutral",
   "metadata": {},
   "outputs": [],
   "source": []
  },
  {
   "cell_type": "markdown",
   "id": "laden-sudan",
   "metadata": {},
   "source": [
    "How many missing values (in absolute numbers and as a percentage)\n",
    "are there for each column? Generate a bar plot showing this."
   ]
  },
  {
   "cell_type": "code",
   "execution_count": null,
   "id": "renewable-module",
   "metadata": {},
   "outputs": [],
   "source": []
  },
  {
   "cell_type": "markdown",
   "id": "negative-school",
   "metadata": {},
   "source": [
    "What methods do you know for dealing with missing values? \n",
    "What are the advantages and disadvantages of each of them?"
   ]
  },
  {
   "cell_type": "markdown",
   "id": "interracial-moderator",
   "metadata": {},
   "source": [
    "* ..."
   ]
  },
  {
   "cell_type": "markdown",
   "id": "voluntary-store",
   "metadata": {},
   "source": [
    "For now, we will keep it simple. Drop all the rows that contain missing data. How many records were lost because of this??"
   ]
  },
  {
   "cell_type": "code",
   "execution_count": null,
   "id": "banned-composer",
   "metadata": {},
   "outputs": [],
   "source": []
  },
  {
   "cell_type": "markdown",
   "id": "hired-military",
   "metadata": {},
   "source": [
    "*In theory*, `topography` should be the concatenation of `topo` and\n",
    "`sublocalization`. For what number/percentage of records\n",
    "is this actually true?"
   ]
  },
  {
   "cell_type": "code",
   "execution_count": null,
   "id": "central-savings",
   "metadata": {},
   "outputs": [],
   "source": []
  },
  {
   "cell_type": "markdown",
   "id": "automatic-snowboard",
   "metadata": {
    "lines_to_next_cell": 2
   },
   "source": [
    "## 1.4 Feature engineering\n",
    "Let's make a small feature engineering. In all cases, make sure that you \n",
    "only add these new features (i.e., columns) only if they aren't already present \n",
    "in the `DataFrame`. \n",
    "\n",
    "* Create a new column called `age_incidence`, which \n",
    "contains the age of the patient at the moment of diagnosis. Use the \n",
    "information contained in the columns `incidence_year` and `birth_date`. "
   ]
  },
  {
   "cell_type": "code",
   "execution_count": null,
   "id": "wrong-integer",
   "metadata": {
    "lines_to_next_cell": 2
   },
   "outputs": [],
   "source": []
  },
  {
   "cell_type": "markdown",
   "id": "dense-kernel",
   "metadata": {},
   "source": [
    "* Create two new columns called `stage_clin_num` and `stage_patho_num`. \n",
    "Each of them will have the numerical part of the data contained\n",
    "in the columns `stage_clin` and `state_patho`, respectively."
   ]
  },
  {
   "cell_type": "code",
   "execution_count": null,
   "id": "hollywood-collect",
   "metadata": {
    "lines_to_next_cell": 2
   },
   "outputs": [],
   "source": []
  },
  {
   "cell_type": "markdown",
   "id": "considerable-convert",
   "metadata": {},
   "source": [
    "* Create q new column called `death`, which has a `False` if the patient\n",
    "is still alive or a `True` if the patient already passed away."
   ]
  },
  {
   "cell_type": "code",
   "execution_count": null,
   "id": "serial-april",
   "metadata": {
    "lines_to_next_cell": 2
   },
   "outputs": [],
   "source": []
  },
  {
   "cell_type": "markdown",
   "id": "promotional-regulation",
   "metadata": {},
   "source": [
    "## 1.5 Decode features\n",
    "Many features in the NKR are encoded. While this will be useful later on,\n",
    "it can also make the data cryptic at this point.\n",
    "\n",
    "Decode the column `gender` as indicated in the following table\n",
    "\n",
    "| Original value | New value       |\n",
    "|----------------|-----------------|\n",
    "| 1              | `male`          |\n",
    "| 2              | `female`        |\n",
    "| 3              | `hermaphrodite` |\n"
   ]
  },
  {
   "cell_type": "code",
   "execution_count": null,
   "id": "trying-enough",
   "metadata": {
    "lines_to_next_cell": 2
   },
   "outputs": [],
   "source": []
  },
  {
   "cell_type": "markdown",
   "id": "first-treasure",
   "metadata": {},
   "source": [
    "## 1.6 Save the data\n",
    "Lastly, save the modified DataFrame as `df_preprocessing.csv` in the\n",
    "`data_processed` directory. \n",
    "\n",
    "**Tip**: take a look at [`pandas to_csv`](https://pandas.pydata.org/pandas-docs/stable/reference/api/pandas.DataFrame.to_csv.html)"
   ]
  },
  {
   "cell_type": "code",
   "execution_count": null,
   "id": "above-september",
   "metadata": {},
   "outputs": [],
   "source": []
  },
  {
   "cell_type": "markdown",
   "id": "after-alliance",
   "metadata": {},
   "source": [
    "Make sure that you generate a new section in the data `README.md` corresponding to this new data file. Remember to include information of the new features."
   ]
  }
 ],
 "metadata": {
  "jupytext": {
   "cell_metadata_json": true,
   "encoding": "# -*- coding: utf-8 -*-",
   "formats": "ipynb,py:percent"
  },
  "kernelspec": {
   "display_name": "Python 3",
   "language": "python",
   "name": "python3"
  },
  "language_info": {
   "codemirror_mode": {
    "name": "ipython",
    "version": 3
   },
   "file_extension": ".py",
   "mimetype": "text/x-python",
   "name": "python",
   "nbconvert_exporter": "python",
   "pygments_lexer": "ipython3",
   "version": "3.7.9"
  }
 },
 "nbformat": 4,
 "nbformat_minor": 5
}
